{
 "cells": [
  {
   "cell_type": "markdown",
   "metadata": {},
   "source": [
    "# What drives the price of a car?\n",
    "\n",
    "![](images/kurt.jpeg)"
   ]
  },
  {
   "cell_type": "markdown",
   "metadata": {},
   "source": [
    "**OVERVIEW**\n",
    "\n",
    "In this application, you will explore a dataset from Kaggle. The original dataset contained information on 3 million used cars. The provided dataset contains information on 426K cars to ensure speed of processing.  Your goal is to understand what factors make a car more or less expensive.  As a result of your analysis, you should provide clear recommendations to your client -- a used car dealership -- as to what consumers value in a used car."
   ]
  },
  {
   "cell_type": "markdown",
   "metadata": {},
   "source": [
    "### CRISP-DM Framework\n",
    "\n",
    "<center>\n",
    "    <img src = images/crisp.png width = 50%/>\n",
    "</center>\n",
    "\n",
    "\n",
    "To frame the task, throughout our practical applications, we will refer back to a standard process in industry for data projects called CRISP-DM.  This process provides a framework for working through a data problem.  Your first step in this application will be to read through a brief overview of CRISP-DM [here](https://mo-pcco.s3.us-east-1.amazonaws.com/BH-PCMLAI/module_11/readings_starter.zip).  After reading the overview, answer the questions below."
   ]
  },
  {
   "cell_type": "markdown",
   "metadata": {},
   "source": [
    "### Business Understanding\n",
    "\n",
    "From a business perspective, we are tasked with identifying key drivers for used car prices.  In the CRISP-DM overview, we are asked to convert this business framing to a data problem definition.  Using a few sentences, reframe the task as a data task with the appropriate technical vocabulary. "
   ]
  },
  {
   "cell_type": "code",
   "execution_count": 376,
   "metadata": {},
   "outputs": [
    {
     "name": "stdout",
     "output_type": "stream",
     "text": [
      "The busines objective is to identify the primary factors which influence the price of an used cars in order for the dealer to consider for understandign the pricing strategy and inventory decisions. As per the given data, dataset includes variables like region, year, manufacturer, model, condition, cylinders, fuel, odometer, title_status and drive which are most considerable for analysis & prediction purpose. By involving the statistical analysis & machine learning techniques, relevant predictors can be prepared. \n"
     ]
    }
   ],
   "source": [
    "print(\"The busines objective is to identify the primary factors which influence the price of an used cars in order for the dealer to consider for understandign the pricing strategy and inventory decisions. As per the given data, dataset includes variables like region, year, manufacturer, model, condition, cylinders, fuel, odometer, title_status and drive which are most considerable for analysis & prediction purpose. By involving the statistical analysis & machine learning techniques, relevant predictors can be prepared. \")"
   ]
  },
  {
   "cell_type": "markdown",
   "metadata": {},
   "source": [
    "### Data Understanding\n",
    "\n",
    "After considering the business understanding, we want to get familiar with our data.  Write down some steps that you would take to get to know the dataset and identify any quality issues within.  Take time to get to know the dataset and explore what information it contains and how this could be used to inform your business understanding."
   ]
  },
  {
   "cell_type": "code",
   "execution_count": 378,
   "metadata": {},
   "outputs": [
    {
     "name": "stdout",
     "output_type": "stream",
     "text": [
      "Below are the high level steps to consider for data understanding -\n",
      "\n",
      "1. Data Exploration - Loading the data , preview the sample data, capture the number of rows and columns given for analysis\n",
      "\n",
      "2. Finding the meanign of each variable or feature to understand the relation between the used car price and other variables like region, year, manufacturer, model, condition, cylinders, fuel, odometer, title_status\n",
      "\n",
      "3. Data Preparation - To prepare or improve the quality of the data , cleansing the data for missing data , de-dup the data, appropriate data type conversionetc\n",
      "\n",
      "4. Analysing the distribution of the data and finding the relationships,patterns using the visual plots like histograms,box plots,bar plots etc\n",
      "\n",
      "5. Mapping the business requirements with preapred patterns or features like what factors are more infuential to decide the price of used car is acceptable or not for the dealer\n",
      "\n",
      "6. Finally document all the key findings and recommendations, action items for further analysis\n"
     ]
    }
   ],
   "source": [
    "print(\"Below are the high level steps to consider for data understanding -\")\n",
    "print(\"\\n1. Data Exploration - Loading the data , preview the sample data, capture the number of rows and columns given for analysis\")\n",
    "print(\"\\n2. Finding the meanign of each variable or feature to understand the relation between the used car price and other variables like region, year, manufacturer, model, condition, cylinders, fuel, odometer, title_status\")\n",
    "print(\"\\n3. Data Preparation - To prepare or improve the quality of the data , cleansing the data for missing data , de-dup the data, appropriate data type conversionetc\")\n",
    "print(\"\\n4. Analysing the distribution of the data and finding the relationships,patterns using the visual plots like histograms,box plots,bar plots etc\")\n",
    "print(\"\\n5. Mapping the business requirements with preapred patterns or features like what factors are more infuential to decide the price of used car is acceptable or not for the dealer\")\n",
    "print(\"\\n6. Finally document all the key findings and recommendations, action items for further analysis\")"
   ]
  },
  {
   "cell_type": "markdown",
   "metadata": {},
   "source": [
    "### Data Preparation\n",
    "\n",
    "After our initial exploration and fine-tuning of the business understanding, it is time to construct our final dataset prior to modeling.  Here, we want to make sure to handle any integrity issues and cleaning, the engineering of new features, any transformations that we believe should happen (scaling, logarithms, normalization, etc.), and general preparation for modeling with `sklearn`. "
   ]
  },
  {
   "cell_type": "code",
   "execution_count": 380,
   "metadata": {},
   "outputs": [
    {
     "name": "stdout",
     "output_type": "stream",
     "text": [
      "1. Identify missing data using isna().sum()\n",
      "\n",
      "2. Identify the data - rows or columns which is most missing and irrelevant for the analysis\n",
      "\n",
      "3. Remove the duplicate rows to avoid redundancy - drop_duplicates()\n",
      "\n",
      "4. Verify and convert all the required column's data type using astype() method\n",
      "\n",
      "5. Visualize and filter extreme values in key features (e.g., price, mileage, year) using boxplots, histograms\n",
      "\n",
      "6. Cap or remove outliers that could distort modeling\n"
     ]
    }
   ],
   "source": [
    "print(\"1. Identify missing data using isna().sum()\")\n",
    "print(\"\\n2. Identify the data - rows or columns which is most missing and irrelevant for the analysis\")\n",
    "print(\"\\n3. Remove the duplicate rows to avoid redundancy - drop_duplicates()\")\n",
    "print(\"\\n4. Verify and convert all the required column's data type using astype() method\")\n",
    "print(\"\\n5. Visualize and filter extreme values in key features (e.g., price, mileage, year) using boxplots, histograms\")\n",
    "print(\"\\n6. Cap or remove outliers that could distort modeling\")\n",
    "\n"
   ]
  },
  {
   "cell_type": "code",
   "execution_count": 264,
   "metadata": {},
   "outputs": [
    {
     "data": {
      "text/html": [
       "<div>\n",
       "<style scoped>\n",
       "    .dataframe tbody tr th:only-of-type {\n",
       "        vertical-align: middle;\n",
       "    }\n",
       "\n",
       "    .dataframe tbody tr th {\n",
       "        vertical-align: top;\n",
       "    }\n",
       "\n",
       "    .dataframe thead th {\n",
       "        text-align: right;\n",
       "    }\n",
       "</style>\n",
       "<table border=\"1\" class=\"dataframe\">\n",
       "  <thead>\n",
       "    <tr style=\"text-align: right;\">\n",
       "      <th></th>\n",
       "      <th>id</th>\n",
       "      <th>region</th>\n",
       "      <th>price</th>\n",
       "      <th>year</th>\n",
       "      <th>manufacturer</th>\n",
       "      <th>model</th>\n",
       "      <th>condition</th>\n",
       "      <th>cylinders</th>\n",
       "      <th>fuel</th>\n",
       "      <th>odometer</th>\n",
       "      <th>title_status</th>\n",
       "      <th>transmission</th>\n",
       "      <th>VIN</th>\n",
       "      <th>drive</th>\n",
       "      <th>size</th>\n",
       "      <th>type</th>\n",
       "      <th>paint_color</th>\n",
       "      <th>state</th>\n",
       "    </tr>\n",
       "  </thead>\n",
       "  <tbody>\n",
       "    <tr>\n",
       "      <th>0</th>\n",
       "      <td>7222695916</td>\n",
       "      <td>prescott</td>\n",
       "      <td>6000</td>\n",
       "      <td>NaN</td>\n",
       "      <td>NaN</td>\n",
       "      <td>NaN</td>\n",
       "      <td>NaN</td>\n",
       "      <td>NaN</td>\n",
       "      <td>NaN</td>\n",
       "      <td>NaN</td>\n",
       "      <td>NaN</td>\n",
       "      <td>NaN</td>\n",
       "      <td>NaN</td>\n",
       "      <td>NaN</td>\n",
       "      <td>NaN</td>\n",
       "      <td>NaN</td>\n",
       "      <td>NaN</td>\n",
       "      <td>az</td>\n",
       "    </tr>\n",
       "    <tr>\n",
       "      <th>1</th>\n",
       "      <td>7218891961</td>\n",
       "      <td>fayetteville</td>\n",
       "      <td>11900</td>\n",
       "      <td>NaN</td>\n",
       "      <td>NaN</td>\n",
       "      <td>NaN</td>\n",
       "      <td>NaN</td>\n",
       "      <td>NaN</td>\n",
       "      <td>NaN</td>\n",
       "      <td>NaN</td>\n",
       "      <td>NaN</td>\n",
       "      <td>NaN</td>\n",
       "      <td>NaN</td>\n",
       "      <td>NaN</td>\n",
       "      <td>NaN</td>\n",
       "      <td>NaN</td>\n",
       "      <td>NaN</td>\n",
       "      <td>ar</td>\n",
       "    </tr>\n",
       "    <tr>\n",
       "      <th>2</th>\n",
       "      <td>7221797935</td>\n",
       "      <td>florida keys</td>\n",
       "      <td>21000</td>\n",
       "      <td>NaN</td>\n",
       "      <td>NaN</td>\n",
       "      <td>NaN</td>\n",
       "      <td>NaN</td>\n",
       "      <td>NaN</td>\n",
       "      <td>NaN</td>\n",
       "      <td>NaN</td>\n",
       "      <td>NaN</td>\n",
       "      <td>NaN</td>\n",
       "      <td>NaN</td>\n",
       "      <td>NaN</td>\n",
       "      <td>NaN</td>\n",
       "      <td>NaN</td>\n",
       "      <td>NaN</td>\n",
       "      <td>fl</td>\n",
       "    </tr>\n",
       "    <tr>\n",
       "      <th>3</th>\n",
       "      <td>7222270760</td>\n",
       "      <td>worcester / central MA</td>\n",
       "      <td>1500</td>\n",
       "      <td>NaN</td>\n",
       "      <td>NaN</td>\n",
       "      <td>NaN</td>\n",
       "      <td>NaN</td>\n",
       "      <td>NaN</td>\n",
       "      <td>NaN</td>\n",
       "      <td>NaN</td>\n",
       "      <td>NaN</td>\n",
       "      <td>NaN</td>\n",
       "      <td>NaN</td>\n",
       "      <td>NaN</td>\n",
       "      <td>NaN</td>\n",
       "      <td>NaN</td>\n",
       "      <td>NaN</td>\n",
       "      <td>ma</td>\n",
       "    </tr>\n",
       "    <tr>\n",
       "      <th>4</th>\n",
       "      <td>7210384030</td>\n",
       "      <td>greensboro</td>\n",
       "      <td>4900</td>\n",
       "      <td>NaN</td>\n",
       "      <td>NaN</td>\n",
       "      <td>NaN</td>\n",
       "      <td>NaN</td>\n",
       "      <td>NaN</td>\n",
       "      <td>NaN</td>\n",
       "      <td>NaN</td>\n",
       "      <td>NaN</td>\n",
       "      <td>NaN</td>\n",
       "      <td>NaN</td>\n",
       "      <td>NaN</td>\n",
       "      <td>NaN</td>\n",
       "      <td>NaN</td>\n",
       "      <td>NaN</td>\n",
       "      <td>nc</td>\n",
       "    </tr>\n",
       "  </tbody>\n",
       "</table>\n",
       "</div>"
      ],
      "text/plain": [
       "           id                  region  price  year manufacturer model  \\\n",
       "0  7222695916                prescott   6000   NaN          NaN   NaN   \n",
       "1  7218891961            fayetteville  11900   NaN          NaN   NaN   \n",
       "2  7221797935            florida keys  21000   NaN          NaN   NaN   \n",
       "3  7222270760  worcester / central MA   1500   NaN          NaN   NaN   \n",
       "4  7210384030              greensboro   4900   NaN          NaN   NaN   \n",
       "\n",
       "  condition cylinders fuel  odometer title_status transmission  VIN drive  \\\n",
       "0       NaN       NaN  NaN       NaN          NaN          NaN  NaN   NaN   \n",
       "1       NaN       NaN  NaN       NaN          NaN          NaN  NaN   NaN   \n",
       "2       NaN       NaN  NaN       NaN          NaN          NaN  NaN   NaN   \n",
       "3       NaN       NaN  NaN       NaN          NaN          NaN  NaN   NaN   \n",
       "4       NaN       NaN  NaN       NaN          NaN          NaN  NaN   NaN   \n",
       "\n",
       "  size type paint_color state  \n",
       "0  NaN  NaN         NaN    az  \n",
       "1  NaN  NaN         NaN    ar  \n",
       "2  NaN  NaN         NaN    fl  \n",
       "3  NaN  NaN         NaN    ma  \n",
       "4  NaN  NaN         NaN    nc  "
      ]
     },
     "execution_count": 264,
     "metadata": {},
     "output_type": "execute_result"
    }
   ],
   "source": [
    "import pandas as pd\n",
    "import numpy as np\n",
    "import plotly.express as px\n",
    "import matplotlib.pyplot as plt\n",
    "import seaborn as sns\n",
    "\n",
    "vehicle_df = pd.read_csv('data/vehicles.csv')\n",
    "vehicle_df.head()"
   ]
  },
  {
   "cell_type": "code",
   "execution_count": 30,
   "metadata": {},
   "outputs": [
    {
     "name": "stdout",
     "output_type": "stream",
     "text": [
      "Number of rows: 426880\n",
      "Number of columns: 18\n",
      "Column names: ['id', 'region', 'price', 'year', 'manufacturer', 'model', 'condition', 'cylinders', 'fuel', 'odometer', 'title_status', 'transmission', 'VIN', 'drive', 'size', 'type', 'paint_color', 'state']\n"
     ]
    }
   ],
   "source": [
    "num_rows, num_columns = vehicle_df.shape\n",
    "\n",
    "# Get list of column names\n",
    "column_names = list(vehicle_df.columns)\n",
    "\n",
    "print(f\"Number of rows: {num_rows}\")\n",
    "print(f\"Number of columns: {num_columns}\")\n",
    "print(f\"Column names: {column_names}\")\n"
   ]
  },
  {
   "cell_type": "code",
   "execution_count": 304,
   "metadata": {},
   "outputs": [],
   "source": [
    "vehicle_df.isna().sum()\n",
    "\n",
    "vehicle_df_filled.tail()\n",
    "\n",
    "# vehicle_df['cylinders']=vehicle_df['cylinders'].str.replace('cylinders', '', regex=False).str.strip()\n",
    "vehicle_df.drop_duplicates(inplace=True)\n",
    "vehicle_df_filled = vehicle_df.fillna({'year': 0, 'manufacturer': 'UNKNOWN', 'model': 'UNKNOWN','condition': 'UNKNOWN','cylinders': 0,\n",
    "                                       'fuel': 'UNKNOWN','odometer': 0,'title_status': 'UNKNOWN','transmission': 'UNKNOWN','VIN': 'UNKNOWN',\n",
    "                                      'drive': 'NA', 'size': 'UNKNOWN', 'type': 'UNKNOWN', 'paint_color':'UNKNOWN'})\n",
    "vehicle_df_filled['year'] = vehicle_df_filled['year'].astype(int)\n",
    "vehicle_df_filled['odometer'] = vehicle_df_filled['odometer'].astype(int)\n",
    "# vehicle_df_filled['cylinders'] = vehicle_df_filled['cylinders'].astype(int)\n",
    "\n",
    "\n",
    "\n",
    "vehicle_df_filled.tail()\n",
    "\n",
    "vehicle_df_filled.to_csv('data/vehicles_updated.csv', index=False)"
   ]
  },
  {
   "cell_type": "code",
   "execution_count": 356,
   "metadata": {},
   "outputs": [
    {
     "name": "stdout",
     "output_type": "stream",
     "text": [
      "Number of rows: 233261\n",
      "Number of columns: 18\n",
      "Column names: ['id', 'region', 'price', 'year', 'manufacturer', 'model', 'condition', 'cylinders', 'fuel', 'odometer', 'title_status', 'transmission', 'VIN', 'drive', 'size', 'type', 'paint_color', 'state']\n"
     ]
    }
   ],
   "source": [
    "#Removed the vehicles without VIN number, year=0, model=0, condition=0, price>\n",
    "df0 = vehicle_df_filled.loc[~((['year'] == 0) & (vehicle_df_filled['model'] == 0) & (vehicle_df_filled['condition'] == 0))]\n",
    "df1 = df0.loc[~((df0['VIN'] == 0))]\n",
    "df2 = df1.loc[((df1['price'] >= 10000) & (df1['price'] <= 50000))]\n",
    "df3 = df2.loc[~(df2['manufacturer'] == 0)]\n",
    "df4 = df3.loc[~(df3['odometer'] <= 1000)]\n",
    "df = df4.loc[~(df3['cylinders'] == 'other')]\n",
    "# df['cylinders']=df['cylinders'].astype(int)\n",
    "# df.loc[df['cylinders']] = df.loc[df['cylinders']].astype(int)\n",
    "\n",
    "df.head()\n",
    "num_rows, num_columns = df.shape\n",
    "column_names = list(df.columns)\n",
    "\n",
    "print(f\"Number of rows: {num_rows}\")\n",
    "print(f\"Number of columns: {num_columns}\")\n",
    "print(f\"Column names: {column_names}\")\n",
    "df.to_csv('data/vehicles_updated_final.csv', index=False)"
   ]
  },
  {
   "cell_type": "code",
   "execution_count": 360,
   "metadata": {},
   "outputs": [
    {
     "data": {
      "image/png": "[encoded data removed]",
      "text/plain": [
       "<Figure size 640x480 with 1 Axes>"
      ]
     },
     "metadata": {},
     "output_type": "display_data"
    }
   ],
   "source": [
    "vehicle_df_1=df[df['manufacturer'].isin(df['manufacturer'].unique()[:10].tolist())]\n",
    "\n",
    "# vehicle_df_1.hist(\"price\")\n",
    "plt.title(\"Barplot - Price vs Manufacturer\")\n",
    "sns.barplot(data=vehicle_df_1, x=\"manufacturer\", y=\"price\")\n",
    "plt.savefig(\"images/UsedCars_Bar_Plot_img_01.png\")"
   ]
  },
  {
   "cell_type": "code",
   "execution_count": 362,
   "metadata": {},
   "outputs": [
    {
     "data": {
      "image/png": "[encoded data removed]",
      "text/plain": [
       "<Figure size 640x480 with 1 Axes>"
      ]
     },
     "metadata": {},
     "output_type": "display_data"
    }
   ],
   "source": [
    "vehicle_df_1.head()\n",
    "plt.title('Mileage range availability of each vehicle')\n",
    "sns.scatterplot(data=vehicle_df_1, x=\"manufacturer\", y=\"odometer\")\n",
    "plt.savefig(\"images/UsedCars_Scatter_Plot_img_02.png\")"
   ]
  },
  {
   "cell_type": "markdown",
   "metadata": {},
   "source": [
    "### Modeling\n",
    "\n",
    "With your (almost?) final dataset in hand, it is now time to build some models.  Here, you should build a number of different regression models with the price as the target.  In building your models, you should explore different parameters and be sure to cross-validate your findings."
   ]
  },
  {
   "cell_type": "code",
   "execution_count": 366,
   "metadata": {},
   "outputs": [
    {
     "name": "stdout",
     "output_type": "stream",
     "text": [
      "Linear Regression CV MAE: 8117.34\n",
      "Linear Regression Test MAE: 8137.04, R2: 0.08\n",
      "\n",
      "Ridge Regression CV MAE: 8117.34\n",
      "Ridge Regression Test MAE: 8137.04, R2: 0.08\n",
      "\n",
      "Lasso Regression CV MAE: 8117.34\n",
      "Lasso Regression Test MAE: 8137.04, R2: 0.08\n",
      "\n",
      "Random Forest CV MAE: 3150.18\n",
      "Random Forest Test MAE: 2972.40, R2: 0.69\n",
      "\n"
     ]
    }
   ],
   "source": [
    "import pandas as pd\n",
    "from sklearn.model_selection import train_test_split, cross_val_score\n",
    "from sklearn.linear_model import LinearRegression, Ridge, Lasso\n",
    "from sklearn.ensemble import RandomForestRegressor\n",
    "from sklearn.metrics import mean_absolute_error, r2_score\n",
    "\n",
    "features = ['year', 'odometer', 'cylinders']\n",
    "X = vehicle_df_1[features]\n",
    "y = vehicle_df_1['price']\n",
    "\n",
    "# Split into train and test sets\n",
    "X_train, X_test, y_train, y_test = train_test_split(X, y, test_size=0.2, random_state=42)\n",
    "\n",
    "# Regression models\n",
    "models = {\n",
    "    'Linear Regression': LinearRegression(),\n",
    "    'Ridge Regression': Ridge(alpha=1.0),\n",
    "    'Lasso Regression': Lasso(alpha=0.1),\n",
    "    'Random Forest': RandomForestRegressor(n_estimators=100, random_state=42)\n",
    "}\n",
    "\n",
    "# Evaluate each model\n",
    "for name, model in models.items():\n",
    "    cv_scores = cross_val_score(model, X_train, y_train, cv=5, scoring='neg_mean_absolute_error')\n",
    "    print(f\"{name} CV MAE: {-cv_scores.mean():.2f}\")\n",
    "    \n",
    "    model.fit(X_train, y_train)\n",
    "    y_pred = model.predict(X_test)\n",
    "    \n",
    "    # Metrics\n",
    "    mae = mean_absolute_error(y_test, y_pred)\n",
    "    r2 = r2_score(y_test, y_pred)\n",
    "    print(f\"{name} Test MAE: {mae:.2f}, R2: {r2:.2f}\\n\")\n"
   ]
  },
  {
   "cell_type": "markdown",
   "metadata": {},
   "source": [
    "### Evaluation\n",
    "\n",
    "With some modeling accomplished, we aim to reflect on what we identify as a high-quality model and what we are able to learn from this.  We should review our business objective and explore how well we can provide meaningful insight into drivers of used car prices.  Your goal now is to distill your findings and determine whether the earlier phases need revisitation and adjustment or if you have information of value to bring back to your client."
   ]
  },
  {
   "cell_type": "code",
   "execution_count": 390,
   "metadata": {},
   "outputs": [
    {
     "name": "stdout",
     "output_type": "stream",
     "text": [
      "As per the model out put , random forest show strong performance over the proce prediction achieving 69% compared to other regression models which gave same output of 0.08 mae and its udnerperformed. For used car data price prediction, straight relatio nbetween any 2 features doesnot work. Other multiple factors like location, season etc are also required. Linear `relationship between features and target doesnt workout well instead non-linear relationships will work well due to which random forest regression model outperformed .Further need to explore with other non-linear models for such complex & non-linear patterns.\n"
     ]
    }
   ],
   "source": [
    "print(\"As per the model out put , random forest show strong performance over the proce prediction achieving 69% compared to other regression models which gave same output of 0.08 mae and its udnerperformed. For used car data price prediction, straight relatio nbetween any 2 features doesnot work. Other multiple factors like location, season etc are also required. Linear `relationship between features and target doesnt workout well instead non-linear relationships will work well due to which random forest regression model outperformed .Further need to explore with other non-linear models for such complex & non-linear patterns.\")"
   ]
  },
  {
   "cell_type": "markdown",
   "metadata": {},
   "source": [
    "### Deployment\n",
    "\n",
    "Now that we've settled on our models and findings, it is time to deliver the information to the client.  You should organize your work as a basic report that details your primary findings.  Keep in mind that your audience is a group of used car dealers interested in fine-tuning their inventory."
   ]
  },
  {
   "cell_type": "code",
   "execution_count": 392,
   "metadata": {},
   "outputs": [
    {
     "name": "stdout",
     "output_type": "stream",
     "text": [
      "We have analyzed the data of 233261 consolidated rows with features year of manufacture , odometer(Mileage) and cylinders to predict the price of the vehicle.Less mileage, latest year of manufacture will have higher price along with the brand reputation of the vhicle, clean title, gas type are other additional features which will impact the price of the vehicle. For this non-linear data relation , random forest regression model is the best recommendation.Prioritize the vehicles with low mileage and know the brands in the inventory. If vehicles with more mileage , consider the other factors like history , title and location etc. Further analysis the factors like season, in-details refinement of the vehicle condition can be considered.\n"
     ]
    }
   ],
   "source": [
    "print(\"We have analyzed the data of 233261 consolidated rows with features year of manufacture , odometer(Mileage) and cylinders to predict the price of the vehicle.Less mileage, latest year of manufacture will have higher price along with the brand reputation of the vhicle, clean title, gas type are other additional features which will impact the price of the vehicle. For this non-linear data relation , random forest regression model is the best recommendation.Prioritize the vehicles with low mileage and know the brands in the inventory. If vehicles with more mileage , consider the other factors like history , title and location etc. Further analysis the factors like season, in-details refinement of the vehicle condition can be considered.\")\n"
   ]
  }
 ],
 "metadata": {
  "kernelspec": {
   "display_name": "Python 3 (ipykernel)",
   "language": "python",
   "name": "python3"
  },
  "language_info": {
   "codemirror_mode": {
    "name": "ipython",
    "version": 3
   },
   "file_extension": ".py",
   "mimetype": "text/x-python",
   "name": "python",
   "nbconvert_exporter": "python",
   "pygments_lexer": "ipython3",
   "version": "3.12.4"
  },
  "widgets": {
   "application/vnd.jupyter.widget-state+json": {
    "state": {},
    "version_major": 2,
    "version_minor": 0
   }
  }
 },
 "nbformat": 4,
 "nbformat_minor": 4
}
